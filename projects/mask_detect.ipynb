{
 "cells": [
  {
   "cell_type": "code",
   "execution_count": 3,
   "metadata": {},
   "outputs": [
    {
     "name": "stdout",
     "output_type": "stream",
     "text": [
      "2.5.0\n"
     ]
    },
    {
     "data": {
      "text/plain": [
       "[name: \"/device:CPU:0\"\n",
       " device_type: \"CPU\"\n",
       " memory_limit: 268435456\n",
       " locality {\n",
       " }\n",
       " incarnation: 311141846393715253,\n",
       " name: \"/device:GPU:0\"\n",
       " device_type: \"GPU\"\n",
       " memory_limit: 1748933019\n",
       " locality {\n",
       "   bus_id: 1\n",
       "   links {\n",
       "   }\n",
       " }\n",
       " incarnation: 15458447450892845098\n",
       " physical_device_desc: \"device: 0, name: GeForce RTX 3050 Laptop GPU, pci bus id: 0000:01:00.0, compute capability: 8.6\"]"
      ]
     },
     "execution_count": 3,
     "metadata": {},
     "output_type": "execute_result"
    }
   ],
   "source": [
    "from tensorflow.python.client import device_lib\n",
    "import tensorflow as tf\n",
    "\n",
    "print(tf.__version__)\n",
    "\n",
    "device_lib.list_local_devices()"
   ]
  },
  {
   "cell_type": "code",
   "execution_count": 4,
   "metadata": {},
   "outputs": [
    {
     "data": {
      "text/html": [
       "<div>\n",
       "<style scoped>\n",
       "    .dataframe tbody tr th:only-of-type {\n",
       "        vertical-align: middle;\n",
       "    }\n",
       "\n",
       "    .dataframe tbody tr th {\n",
       "        vertical-align: top;\n",
       "    }\n",
       "\n",
       "    .dataframe thead th {\n",
       "        text-align: right;\n",
       "    }\n",
       "</style>\n",
       "<table border=\"1\" class=\"dataframe\">\n",
       "  <thead>\n",
       "    <tr style=\"text-align: right;\">\n",
       "      <th></th>\n",
       "      <th>filename</th>\n",
       "      <th>class</th>\n",
       "    </tr>\n",
       "  </thead>\n",
       "  <tbody>\n",
       "    <tr>\n",
       "      <th>0</th>\n",
       "      <td>D:\\tmp\\AFDB_face_dataset\\aidai\\0_0_aidai_0014.jpg</td>\n",
       "      <td>no_mask</td>\n",
       "    </tr>\n",
       "    <tr>\n",
       "      <th>1</th>\n",
       "      <td>D:\\tmp\\AFDB_face_dataset\\aidai\\0_0_aidai_0029.jpg</td>\n",
       "      <td>no_mask</td>\n",
       "    </tr>\n",
       "    <tr>\n",
       "      <th>2</th>\n",
       "      <td>D:\\tmp\\AFDB_face_dataset\\aidai\\0_0_aidai_0043.jpg</td>\n",
       "      <td>no_mask</td>\n",
       "    </tr>\n",
       "    <tr>\n",
       "      <th>3</th>\n",
       "      <td>D:\\tmp\\AFDB_face_dataset\\aidai\\0_0_aidai_0074.jpg</td>\n",
       "      <td>no_mask</td>\n",
       "    </tr>\n",
       "    <tr>\n",
       "      <th>4</th>\n",
       "      <td>D:\\tmp\\AFDB_face_dataset\\aidai\\0_0_aidai_0080.jpg</td>\n",
       "      <td>no_mask</td>\n",
       "    </tr>\n",
       "    <tr>\n",
       "      <th>...</th>\n",
       "      <td>...</td>\n",
       "      <td>...</td>\n",
       "    </tr>\n",
       "    <tr>\n",
       "      <th>1394</th>\n",
       "      <td>D:\\tmp\\AFDB_masked_face_dataset\\zhudan\\1_0_13.jpg</td>\n",
       "      <td>mask</td>\n",
       "    </tr>\n",
       "    <tr>\n",
       "      <th>1395</th>\n",
       "      <td>D:\\tmp\\AFDB_masked_face_dataset\\zhuowenxuan\\0_...</td>\n",
       "      <td>mask</td>\n",
       "    </tr>\n",
       "    <tr>\n",
       "      <th>1396</th>\n",
       "      <td>D:\\tmp\\AFDB_masked_face_dataset\\zhuyilong\\0_0_...</td>\n",
       "      <td>mask</td>\n",
       "    </tr>\n",
       "    <tr>\n",
       "      <th>1397</th>\n",
       "      <td>D:\\tmp\\AFDB_masked_face_dataset\\zhuyilong\\0_0_...</td>\n",
       "      <td>mask</td>\n",
       "    </tr>\n",
       "    <tr>\n",
       "      <th>1398</th>\n",
       "      <td>D:\\tmp\\AFDB_masked_face_dataset\\zhuyuanbing\\0_...</td>\n",
       "      <td>mask</td>\n",
       "    </tr>\n",
       "  </tbody>\n",
       "</table>\n",
       "<p>91867 rows × 2 columns</p>\n",
       "</div>"
      ],
      "text/plain": [
       "                                               filename    class\n",
       "0     D:\\tmp\\AFDB_face_dataset\\aidai\\0_0_aidai_0014.jpg  no_mask\n",
       "1     D:\\tmp\\AFDB_face_dataset\\aidai\\0_0_aidai_0029.jpg  no_mask\n",
       "2     D:\\tmp\\AFDB_face_dataset\\aidai\\0_0_aidai_0043.jpg  no_mask\n",
       "3     D:\\tmp\\AFDB_face_dataset\\aidai\\0_0_aidai_0074.jpg  no_mask\n",
       "4     D:\\tmp\\AFDB_face_dataset\\aidai\\0_0_aidai_0080.jpg  no_mask\n",
       "...                                                 ...      ...\n",
       "1394  D:\\tmp\\AFDB_masked_face_dataset\\zhudan\\1_0_13.jpg     mask\n",
       "1395  D:\\tmp\\AFDB_masked_face_dataset\\zhuowenxuan\\0_...     mask\n",
       "1396  D:\\tmp\\AFDB_masked_face_dataset\\zhuyilong\\0_0_...     mask\n",
       "1397  D:\\tmp\\AFDB_masked_face_dataset\\zhuyilong\\0_0_...     mask\n",
       "1398  D:\\tmp\\AFDB_masked_face_dataset\\zhuyuanbing\\0_...     mask\n",
       "\n",
       "[91867 rows x 2 columns]"
      ]
     },
     "execution_count": 4,
     "metadata": {},
     "output_type": "execute_result"
    }
   ],
   "source": [
    "import glob\n",
    "import os\n",
    "\n",
    "from tqdm import tqdm\n",
    "import pandas as pd\n",
    "import numpy as np\n",
    "\n",
    "import cv2\n",
    "\n",
    "tqdm.pandas()\n",
    "\n",
    "# ROOT = \"/content/drive/MyDrive/research/data\"\n",
    "# pd.read_csv(os.path.join(ROOT, 'train_meta.csv'))\n",
    "\n",
    "ROOT = \"D:\\\\tmp\"\n",
    "\n",
    "\n",
    "def read_img(p):\n",
    "    \"\"\"\n",
    "      read image and resize it to square shape (filling empty zeroes)\n",
    "    \"\"\"\n",
    "    im = cv2.imread(p, 0)\n",
    "    if (im is None):\n",
    "        print(p)\n",
    "        return\n",
    "\n",
    "    h, w = im.shape\n",
    "    s = max(h, w)\n",
    "\n",
    "    im_new = np.zeros((s, s), np.uint8)\n",
    "    x_center, y_center = (s - w)//2, (s - h) // 2\n",
    "\n",
    "    im_new[y_center: (h + y_center), x_center: (w + x_center)] = im\n",
    "\n",
    "    return im_new\n",
    "\n",
    "\n",
    "# MASK DATA import\n",
    "MASKED_DIR = \"AFDB_face_dataset\"\n",
    "\n",
    "mask_sub = glob.glob(os.path.join(ROOT, MASKED_DIR, \"*\", \"*\"))\n",
    "\n",
    "df_mask = pd.DataFrame(np.asarray(mask_sub), columns=['filename'])\n",
    "# df_mask['label'] = df_mask.name.progress_apply(\n",
    "#     os.path.dirname).progress_apply(os.path.basename)\n",
    "# df_mask['image'] = df_mask.name.progress_apply(read_img)\n",
    "df_mask['class'] = 'no_mask'\n",
    "\n",
    "del mask_sub\n",
    "\n",
    "# NON-MASK DATA import\n",
    "NON_MASK_DIR = \"AFDB_masked_face_dataset\"\n",
    "\n",
    "nmask_sub = glob.glob(os.path.join(ROOT, NON_MASK_DIR, \"*\", \"*\"))\n",
    "\n",
    "df_nmask = pd.DataFrame(np.asarray(nmask_sub), columns=['filename'])\n",
    "# df_nmask['label'] = df_nmask.name.progress_apply(\n",
    "#     os.path.dirname).progress_apply(os.path.basename)\n",
    "# df_nmask['image'] = df_nmask.name.progress_apply(read_img)\n",
    "df_nmask['class'] = 'mask'\n",
    "\n",
    "del nmask_sub\n",
    "\n",
    "df = pd.concat([df_mask, df_nmask])\n",
    "\n",
    "del df_mask\n",
    "del df_nmask\n",
    "\n",
    "\n",
    "df['class'] = df['class'].astype('category')\n",
    "df\n"
   ]
  },
  {
   "cell_type": "code",
   "execution_count": 53,
   "metadata": {},
   "outputs": [
    {
     "name": "stdout",
     "output_type": "stream",
     "text": [
      "filename    D:\\tmp\\AFDB_face_dataset\\caiyilin\\1_0_caiyilin...\n",
      "class                                                 no_mask\n",
      "Name: 164, dtype: object\n"
     ]
    },
    {
     "data": {
      "text/plain": [
       "array([[2.1599959e-17, 1.0000000e+00]], dtype=float32)"
      ]
     },
     "execution_count": 53,
     "metadata": {},
     "output_type": "execute_result"
    }
   ],
   "source": [
    "# t = df[df['class']=='no_mask'].iloc[np.random.randint(0, 400)]\n",
    "# print(t)\n",
    "\n",
    "# from keras.preprocessing import image\n",
    "\n",
    "# im = image.load_img(t['filename'], target_size=(224, 224))\n",
    "# im = image.img_to_array(im)\n",
    "# im = np.expand_dims(im, axis=0)\n",
    "\n",
    "# model.predict(preprocess_input(im))"
   ]
  },
  {
   "cell_type": "code",
   "execution_count": 1,
   "metadata": {},
   "outputs": [
    {
     "name": "stdout",
     "output_type": "stream",
     "text": [
      "Model: \"sequential\"\n",
      "_________________________________________________________________\n",
      "Layer (type)                 Output Shape              Param #   \n",
      "=================================================================\n",
      "resnet50 (Functional)        (None, 2048)              23587712  \n",
      "_________________________________________________________________\n",
      "dense (Dense)                (None, 2)                 4098      \n",
      "=================================================================\n",
      "Total params: 23,591,810\n",
      "Trainable params: 4,098\n",
      "Non-trainable params: 23,587,712\n",
      "_________________________________________________________________\n"
     ]
    }
   ],
   "source": [
    "from pathlib import Path\n",
    "\n",
    "import tensorflow as tf\n",
    "from tensorflow.keras.models import Sequential\n",
    "from tensorflow.keras.layers import Dense\n",
    "\n",
    "from tensorflow.keras.applications.resnet50 import ResNet50\n",
    "\n",
    "RESNET_WEIGHT_PATH = Path(\"D:\\\\tmp\\\\pretrained\\\\resnet50_weights_tf_dim_ordering_tf_kernels_notop.h5\")\n",
    "\n",
    "# Hyper-params\n",
    "RESNET50_POOLING_AVERAGE = 'avg'\n",
    "\n",
    "model = Sequential()\n",
    "model.add(\n",
    "    ResNet50(\n",
    "        include_top=False,\n",
    "        pooling=RESNET50_POOLING_AVERAGE,\n",
    "        weights='imagenet')\n",
    ")\n",
    "\n",
    "model.add(Dense(2, activation='softmax'))\n",
    "model.layers[0].trainable = False\n",
    "\n",
    "# model.build()\n",
    "model.summary()"
   ]
  },
  {
   "cell_type": "code",
   "execution_count": 2,
   "metadata": {},
   "outputs": [],
   "source": [
    "from tensorflow.keras import optimizers\n",
    "\n",
    "sgd = optimizers.SGD(learning_rate=0.01, decay=1e-6,\n",
    "                     momentum=0.9, nesterov=True)\n",
    "\n",
    "model.compile(optimizer=sgd,\n",
    "              loss=tf.keras.losses.CategoricalCrossentropy(),\n",
    "              metrics=[tf.keras.metrics.BinaryAccuracy()])\n"
   ]
  },
  {
   "cell_type": "code",
   "execution_count": 5,
   "metadata": {},
   "outputs": [
    {
     "name": "stdout",
     "output_type": "stream",
     "text": [
      "Found 73493 validated image filenames belonging to 2 classes.\n",
      "Found 18374 validated image filenames belonging to 2 classes.\n"
     ]
    },
    {
     "data": {
      "text/plain": [
       "(50, 1470, 50, 368)"
      ]
     },
     "execution_count": 5,
     "metadata": {},
     "output_type": "execute_result"
    }
   ],
   "source": [
    "from sklearn.model_selection import train_test_split\n",
    "\n",
    "from tensorflow.keras.applications.resnet50 import preprocess_input\n",
    "from tensorflow.keras.preprocessing.image import ImageDataGenerator\n",
    "\n",
    "IMAGE_SIZE = 224\n",
    "BATCH_SIZE_TRAINING = 50\n",
    "BATCH_SIZE_VALIDATION = 50\n",
    "\n",
    "train, test = train_test_split(df, test_size=0.2)\n",
    "\n",
    "data_generator = ImageDataGenerator(preprocessing_function=preprocess_input)\n",
    "train_generator = data_generator.flow_from_dataframe(\n",
    "    dataframe=train,\n",
    "    target_size=(IMAGE_SIZE, IMAGE_SIZE),\n",
    "    batch_size=BATCH_SIZE_TRAINING,\n",
    "    class_mode='categorical')\n",
    "\n",
    "validation_generator = data_generator.flow_from_dataframe(\n",
    "    dataframe=test,\n",
    "    target_size=(IMAGE_SIZE, IMAGE_SIZE),\n",
    "    batch_size=BATCH_SIZE_VALIDATION,\n",
    "    class_mode='categorical'\n",
    ")\n",
    "\n",
    "del train\n",
    "del test\n",
    "del df\n",
    "\n",
    "(BATCH_SIZE_TRAINING, len(train_generator), BATCH_SIZE_VALIDATION, len(validation_generator))\n"
   ]
  },
  {
   "cell_type": "code",
   "execution_count": 6,
   "metadata": {},
   "outputs": [
    {
     "name": "stderr",
     "output_type": "stream",
     "text": [
      "0epoch [00:00, ?epoch/s]C:\\Users\\defaultuser0.LAPTOP-POTNR7PE\\miniconda3\\envs\\tf-gpu\\lib\\site-packages\\tensorflow\\python\\keras\\utils\\generic_utils.py:494: CustomMaskWarning: Custom mask layers require a config and must override get_config. When loading, the custom mask layer must be passed to the custom_objects argument.\n",
      "  warnings.warn('Custom mask layers require a config and must override '\n",
      "  0%|          | 0/10 [00:00<?, ?epoch/s]"
     ]
    },
    {
     "name": "stdout",
     "output_type": "stream",
     "text": [
      "Epoch 1/10\n"
     ]
    },
    {
     "name": "stderr",
     "output_type": "stream",
     "text": []
    }
   ],
   "source": [
    "from datetime import datetime\n",
    "\n",
    "from tensorflow.keras.callbacks import EarlyStopping, ModelCheckpoint\n",
    "from tqdm.keras import TqdmCallback\n",
    "\n",
    "EARLY_STOP_PATIENCE = 3\n",
    "\n",
    "cb_early_stopper = EarlyStopping(\n",
    "    monitor='val_loss',\n",
    "    patience=EARLY_STOP_PATIENCE)\n",
    "\n",
    "cb_checkpointer = ModelCheckpoint(\n",
    "    filepath='..\\\\working\\\\best.hdf5',\n",
    "    monitor='val_loss',\n",
    "    save_best_only=True,\n",
    "    mode='auto')\n",
    "\n",
    "logs = \"logs/\" + datetime.now().strftime('%Y%m%d-%H%M%S')\n",
    "tboard_callback = tf.keras.callbacks.TensorBoard(\n",
    "    log_dir = logs,\n",
    "    histogram_freq = 1,\n",
    "    profile_batch = '1,5'\n",
    ")\n",
    " \n",
    "fit_hist = model.fit(\n",
    "    train_generator,\n",
    "    steps_per_epoch=10,\n",
    "    epochs=10,\n",
    "    validation_data=validation_generator,\n",
    "    validation_steps=10,\n",
    "    callbacks=[cb_checkpointer, cb_early_stopper, TqdmCallback(verbose=2), tboard_callback],\n",
    "    verbose=1\n",
    ")\n",
    "\n",
    "# model.fit(train_generator)\n",
    "\n",
    "model.load_weights(\"../working/best.hdf5\")\n"
   ]
  },
  {
   "cell_type": "code",
   "execution_count": 4,
   "metadata": {},
   "outputs": [
    {
     "name": "stdout",
     "output_type": "stream",
     "text": [
      "The tensorboard extension is already loaded. To reload it, use:\n",
      "  %reload_ext tensorboard\n"
     ]
    },
    {
     "data": {
      "text/plain": [
       "Reusing TensorBoard on port 6006 (pid 10796), started 0:25:34 ago. (Use '!kill 10796' to kill it.)"
      ]
     },
     "metadata": {},
     "output_type": "display_data"
    },
    {
     "data": {
      "text/html": [
       "\n",
       "      <iframe id=\"tensorboard-frame-b6ff55115f1ffa7c\" width=\"100%\" height=\"800\" frameborder=\"0\">\n",
       "      </iframe>\n",
       "      <script>\n",
       "        (function() {\n",
       "          const frame = document.getElementById(\"tensorboard-frame-b6ff55115f1ffa7c\");\n",
       "          const url = new URL(\"http://localhost\");\n",
       "          const port = 6006;\n",
       "          if (port) {\n",
       "            url.port = port;\n",
       "          }\n",
       "          frame.src = url;\n",
       "        })();\n",
       "      </script>\n",
       "    "
      ],
      "text/plain": [
       "<IPython.core.display.HTML object>"
      ]
     },
     "metadata": {},
     "output_type": "display_data"
    }
   ],
   "source": [
    "%load_ext tensorboard\n",
    "%tensorboard --logdir logs"
   ]
  },
  {
   "cell_type": "code",
   "execution_count": 15,
   "metadata": {},
   "outputs": [
    {
     "name": "stdout",
     "output_type": "stream",
     "text": [
      "dict_keys(['loss', 'binary_accuracy', 'val_loss', 'val_binary_accuracy'])\n"
     ]
    },
    {
     "data": {
      "image/png": "[encoded data removed]",
      "text/plain": [
       "<Figure size 1080x576 with 2 Axes>"
      ]
     },
     "metadata": {
      "needs_background": "light"
     },
     "output_type": "display_data"
    }
   ],
   "source": [
    "from matplotlib import pyplot as plt\n",
    "\n",
    "print(fit_hist.history.keys())\n",
    "\n",
    "plt.figure(1, figsize = (15,8)) \n",
    "    \n",
    "plt.subplot(221)  \n",
    "plt.plot(fit_hist.history['binary_accuracy'])  \n",
    "plt.plot(fit_hist.history['val_binary_accuracy'])  \n",
    "plt.title('model accuracy')  \n",
    "plt.ylabel('accuracy')  \n",
    "plt.xlabel('epoch')  \n",
    "plt.legend(['train', 'valid']) \n",
    "    \n",
    "plt.subplot(222)  \n",
    "plt.plot(fit_hist.history['loss'])  \n",
    "plt.plot(fit_hist.history['val_loss'])  \n",
    "plt.title('model loss')  \n",
    "plt.ylabel('loss')  \n",
    "plt.xlabel('epoch')  \n",
    "plt.legend(['train', 'valid']) \n",
    "\n",
    "plt.show()"
   ]
  },
  {
   "cell_type": "code",
   "execution_count": null,
   "metadata": {},
   "outputs": [],
   "source": [
    "\n",
    "\n",
    "model.predict()"
   ]
  },
  {
   "cell_type": "code",
   "execution_count": 4,
   "metadata": {},
   "outputs": [
    {
     "name": "stdout",
     "output_type": "stream",
     "text": [
      "TensorFlow version: 2.5.0\n",
      "Num GPUs Available:  1\n",
      "[PhysicalDevice(name='/physical_device:CPU:0', device_type='CPU'), PhysicalDevice(name='/physical_device:GPU:0', device_type='GPU')]\n"
     ]
    }
   ],
   "source": [
    "import tensorflow as tf\n",
    "print(\"TensorFlow version:\", tf.__version__)\n",
    "print(\"Num GPUs Available: \", len(tf.config.list_physical_devices('GPU')))\n",
    "print(tf.config.get_visible_devices())"
   ]
  },
  {
   "cell_type": "code",
   "execution_count": 81,
   "metadata": {},
   "outputs": [
    {
     "data": {
      "text/plain": [
       "<module 'tensorflow.compat.v2.__internal__.distribute' from 'C:\\\\Users\\\\defaultuser0.LAPTOP-POTNR7PE\\\\miniconda3\\\\envs\\\\tf-gpu\\\\lib\\\\site-packages\\\\tensorflow\\\\_api\\\\v2\\\\compat\\\\v2\\\\__internal__\\\\distribute\\\\__init__.py'>"
      ]
     },
     "execution_count": 81,
     "metadata": {},
     "output_type": "execute_result"
    }
   ],
   "source": [
    "tf.compat.v2.__internal__.distribute"
   ]
  },
  {
   "cell_type": "code",
   "execution_count": 5,
   "metadata": {},
   "outputs": [
    {
     "name": "stdout",
     "output_type": "stream",
     "text": [
      "Epoch 1/5\n",
      "1875/1875 [==============================] - 7s 3ms/step - loss: 0.2916 - accuracy: 0.9155\n",
      "Epoch 2/5\n",
      "1875/1875 [==============================] - 6s 3ms/step - loss: 0.1450 - accuracy: 0.9562\n",
      "Epoch 3/5\n",
      "1875/1875 [==============================] - 6s 3ms/step - loss: 0.1103 - accuracy: 0.9670\n",
      "Epoch 4/5\n",
      "1875/1875 [==============================] - 6s 3ms/step - loss: 0.0891 - accuracy: 0.9723\n",
      "Epoch 5/5\n",
      "1875/1875 [==============================] - 7s 4ms/step - loss: 0.0737 - accuracy: 0.9768\n"
     ]
    },
    {
     "data": {
      "text/plain": [
       "<tensorflow.python.keras.callbacks.History at 0x1649d5ee490>"
      ]
     },
     "execution_count": 5,
     "metadata": {},
     "output_type": "execute_result"
    }
   ],
   "source": [
    "mnist = tf.keras.datasets.mnist\n",
    "\n",
    "(x_train, y_train), (x_test, y_test) = mnist.load_data()\n",
    "x_train, x_test = x_train / 255.0, x_test / 255.0\n",
    "\n",
    "model = tf.keras.models.Sequential([\n",
    "  tf.keras.layers.Flatten(input_shape=(28, 28)),\n",
    "  tf.keras.layers.Dense(128, activation='relu'),\n",
    "  tf.keras.layers.Dropout(0.2),\n",
    "  tf.keras.layers.Dense(10)\n",
    "])\n",
    "\n",
    "loss_fn = tf.keras.losses.SparseCategoricalCrossentropy(from_logits=True)\n",
    "model.compile(optimizer='adam',\n",
    "              loss=loss_fn,\n",
    "              metrics=['accuracy'])\n",
    "\n",
    "model.fit(x_train, y_train, epochs=5)"
   ]
  }
 ],
 "metadata": {
  "interpreter": {
   "hash": "3adb8cdf815b8ddef8469679bdbd09cab659238b784fd5806bab0fe2290aaf53"
  },
  "kernelspec": {
   "display_name": "Python 3.6.13 64-bit ('tf-env': conda)",
   "language": "python",
   "name": "python3"
  },
  "language_info": {
   "codemirror_mode": {
    "name": "ipython",
    "version": 3
   },
   "file_extension": ".py",
   "mimetype": "text/x-python",
   "name": "python",
   "nbconvert_exporter": "python",
   "pygments_lexer": "ipython3",
   "version": "3.9.7"
  },
  "orig_nbformat": 4
 },
 "nbformat": 4,
 "nbformat_minor": 2
}
